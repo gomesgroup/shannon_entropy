{
 "cells": [
  {
   "cell_type": "code",
   "execution_count": null,
   "metadata": {},
   "outputs": [],
   "source": [
    "from pyscf import gto, dft\n",
    "from pyscf.tools import cubegen\n",
    "import numpy as np\n",
    "from matplotlib import pyplot as plt\n",
    "import math\n",
    "from scipy.signal import find_peaks\n",
    "from shannon import shannon_entropy"
   ]
  },
  {
   "cell_type": "code",
   "execution_count": null,
   "metadata": {},
   "outputs": [],
   "source": [
    "def make_H2(distance, basis):\n",
    "    mol = gto.M(atom=str.format(\"H 0 0 0 ; H 0 0 {d}\", d=distance), basis=basis)\n",
    "    return mol"
   ]
  },
  {
   "cell_type": "code",
   "execution_count": null,
   "metadata": {},
   "outputs": [],
   "source": [
    "h2_close = make_H2(atom_1='H', atom_2='H', distance=1e-5, basis='sto-3g')\n",
    "hydrogen_atom = gto.M(atom='H', basis='sto-3g', charge=0, spin=1)\n",
    "helium_atom = gto.M(atom='He', basis='sto-3g', charge=0, spin=0)\n",
    "\n",
    "h2_close_entropy = shannon_entropy(h2_close, xc='B3LYP')\n",
    "hydrogen_atom_entropy = shannon_entropy(hydrogen_atom, xc='B3LYP')\n",
    "helium_atom_entropy = shannon_entropy(helium_atom, xc='B3LYP')\n",
    "\n",
    "print(\"-----\")\n",
    "print(\"Hydrogen atom\\t\", hydrogen_atom_entropy)\n",
    "print(\"H2 (close)\\t\", h2_close_entropy)\n",
    "print(\"Helium atom\\t\", helium_atom_entropy)\n"
   ]
  }
 ],
 "metadata": {
  "language_info": {
   "name": "python"
  }
 },
 "nbformat": 4,
 "nbformat_minor": 2
}
