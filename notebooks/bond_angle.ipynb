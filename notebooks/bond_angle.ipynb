{
 "cells": [
  {
   "cell_type": "markdown",
   "metadata": {},
   "source": [
    "# Data Collection"
   ]
  },
  {
   "cell_type": "code",
   "execution_count": 1,
   "metadata": {},
   "outputs": [],
   "source": [
    "import numpy as np\n",
    "from matplotlib import pyplot as plt\n",
    "\n",
    "import sys\n",
    "sys.path.append(\"../utils\")\n",
    "\n",
    "from shannon import calc_coper_gpu\n",
    "from adjust_molecule import adjust_bond_angle\n"
   ]
  },
  {
   "cell_type": "code",
   "execution_count": 2,
   "metadata": {},
   "outputs": [],
   "source": [
    "def plot_bond_angle(mol_name, basis, xc, l, angle_min, angle_max, num_points, idx_1=2, idx_2=1, idx_3=3):\n",
    "    mol_path = f\"mols/mol/{mol_name}.mol\"\n",
    "    x = np.linspace(angle_min, angle_max, num=num_points)\n",
    "\n",
    "    copers = []\n",
    "    energies = []\n",
    "    for i in range(len(x)):\n",
    "        print(i)\n",
    "        mol_ob = adjust_bond_angle(mol_path, idx_1, idx_2, idx_3, x[i])\n",
    "        coper, energy = calc_coper_gpu(mol_ob, basis=basis, xc=xc, l=l)\n",
    "        copers.append(coper)\n",
    "        energies.append(energy)\n",
    "\n",
    "    copers = np.array(copers)\n",
    "    energies = np.array(energies)\n",
    "    outfile = f\"data/bond_angle/{mol_name}_bondangle_{angle_min}_{angle_max}_{num_points}.npy\"\n",
    "    with open(outfile, 'wb') as f:\n",
    "        np.savez(f, angles=x, entropies=copers, energies=energies)"
   ]
  },
  {
   "cell_type": "code",
   "execution_count": 3,
   "metadata": {},
   "outputs": [
    {
     "name": "stdout",
     "output_type": "stream",
     "text": [
      "0\n"
     ]
    },
    {
     "name": "stderr",
     "output_type": "stream",
     "text": [
      "/home/jose/miniconda3/envs/comp_chem/lib/python3.11/site-packages/openbabel/__init__.py:26: UserWarning: \"import openbabel\" is deprecated, instead use \"from openbabel import openbabel\"\n",
      "  warnings.warn('\"import openbabel\" is deprecated, instead use \"from openbabel import openbabel\"')\n"
     ]
    },
    {
     "name": "stdout",
     "output_type": "stream",
     "text": [
      "\n",
      "WARN: Singularity detected in overlap matrix (condition number = 8.96e+08). SCF may be inaccurate and hard to converge.\n",
      "\n",
      "converged SCF energy = 1314.91139541847\n",
      "1\n",
      "converged SCF energy = -20.5969470503946\n",
      "2\n",
      "converged SCF energy = -24.1632158115154\n",
      "3\n",
      "converged SCF energy = -25.2705314257755\n",
      "4\n",
      "converged SCF energy = -25.7632148811286\n",
      "5\n",
      "converged SCF energy = -26.0159736445365\n",
      "6\n",
      "converged SCF energy = -26.1542607377903\n",
      "7\n",
      "converged SCF energy = -26.2313349566563\n",
      "8\n",
      "converged SCF energy = -26.2731949678025\n",
      "9\n"
     ]
    }
   ],
   "source": [
    "basis = 'def2-tzvp'\n",
    "xc = 'pbe0'\n",
    "l = 100\n",
    "mols = ['BH3', 'NH3', 'CH4', 'H2O']\n",
    "for mol in mols:\n",
    "    plot_bond_angle(mol, basis, xc, l, angle_min=0.01, angle_max=180, num_points=100)"
   ]
  },
  {
   "cell_type": "markdown",
   "metadata": {},
   "source": [
    "# Data Analysis"
   ]
  },
  {
   "cell_type": "code",
   "execution_count": null,
   "metadata": {},
   "outputs": [],
   "source": []
  }
 ],
 "metadata": {
  "kernelspec": {
   "display_name": "Python 3",
   "language": "python",
   "name": "python3"
  },
  "language_info": {
   "codemirror_mode": {
    "name": "ipython",
    "version": 3
   },
   "file_extension": ".py",
   "mimetype": "text/x-python",
   "name": "python",
   "nbconvert_exporter": "python",
   "pygments_lexer": "ipython3",
   "version": "3.11.11"
  }
 },
 "nbformat": 4,
 "nbformat_minor": 2
}
