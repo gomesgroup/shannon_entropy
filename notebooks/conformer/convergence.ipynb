{
 "cells": [
  {
   "cell_type": "code",
   "execution_count": 1,
   "metadata": {},
   "outputs": [],
   "source": [
    "from pyscf import gto"
   ]
  },
  {
   "cell_type": "code",
   "execution_count": 2,
   "metadata": {},
   "outputs": [
    {
     "name": "stderr",
     "output_type": "stream",
     "text": [
      "/Library/Frameworks/Python.framework/Versions/3.11/lib/python3.11/site-packages/pyscf/dft/libxc.py:771: UserWarning: Since PySCF-2.3, B3LYP (and B3P86) are changed to the VWN-RPA variant, corresponding to the original definition by Stephens et al. (issue 1480) and the same as the B3LYP functional in Gaussian. To restore the VWN5 definition, you can put the setting \"B3LYP_WITH_VWN5 = True\" in pyscf_conf.py\n",
      "  warnings.warn('Since PySCF-2.3, B3LYP (and B3P86) are changed to the VWN-RPA variant, '\n"
     ]
    }
   ],
   "source": [
    "import sys\n",
    "\n",
    "sys.path.append(\"../utils\")\n",
    "\n",
    "from shannon import ncp"
   ]
  },
  {
   "cell_type": "code",
   "execution_count": 3,
   "metadata": {},
   "outputs": [],
   "source": [
    "def make_H2(distance, basis):\n",
    "    mol = gto.M(atom=str.format(\"H 0 0 0 ; H 0 0 {d}\", d=distance), basis=basis)\n",
    "    return mol"
   ]
  },
  {
   "cell_type": "code",
   "execution_count": 4,
   "metadata": {},
   "outputs": [
    {
     "name": "stdout",
     "output_type": "stream",
     "text": [
      "\n",
      "WARN: Singularity detected in overlap matrix (condition number = 2.21e+10). SCF may be inaccurate and hard to converge.\n",
      "\n"
     ]
    },
    {
     "name": "stdout",
     "output_type": "stream",
     "text": [
      "converged SCF energy = 52915.0645681349\n",
      "converged SCF energy = -0.467532587401397\n",
      "converged SCF energy = -2.8527315333317\n",
      "-----\n",
      "Hydrogen atom\t 0.1423862233794039\n",
      "H2 (close)\t 0.14238582861481908\n",
      "Helium atom\t 0.059367728430973855\n"
     ]
    }
   ],
   "source": [
    "h2_close = make_H2(distance=1e-5, basis='sto-3g')\n",
    "hydrogen_atom = gto.M(atom='H', basis='sto-3g', charge=0, spin=1)\n",
    "helium_atom = gto.M(atom='He', basis='sto-3g', charge=0, spin=0)\n",
    "\n",
    "h2_close_ncp = ncp(h2_close, xc='B3LYP')\n",
    "hydrogen_atom_ncp = ncp(hydrogen_atom, xc='B3LYP')\n",
    "helium_atom_ncp = ncp(helium_atom, xc='B3LYP')\n",
    "\n",
    "print(\"-----\")\n",
    "print(\"Hydrogen atom\\t\", hydrogen_atom_ncp)\n",
    "print(\"H2 (close)\\t\", h2_close_ncp)\n",
    "print(\"Helium atom\\t\", helium_atom_ncp)\n"
   ]
  },
  {
   "cell_type": "code",
   "execution_count": null,
   "metadata": {},
   "outputs": [],
   "source": []
  }
 ],
 "metadata": {
  "kernelspec": {
   "display_name": "Python 3",
   "language": "python",
   "name": "python3"
  },
  "language_info": {
   "codemirror_mode": {
    "name": "ipython",
    "version": 3
   },
   "file_extension": ".py",
   "mimetype": "text/x-python",
   "name": "python",
   "nbconvert_exporter": "python",
   "pygments_lexer": "ipython3",
   "version": "3.11.5"
  }
 },
 "nbformat": 4,
 "nbformat_minor": 2
}
