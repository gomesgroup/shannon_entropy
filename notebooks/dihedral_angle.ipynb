{
 "cells": [
  {
   "cell_type": "code",
   "execution_count": 1,
   "metadata": {},
   "outputs": [
    {
     "name": "stderr",
     "output_type": "stream",
     "text": [
      "/Library/Frameworks/Python.framework/Versions/3.11/lib/python3.11/site-packages/pyscf/dft/libxc.py:771: UserWarning: Since PySCF-2.3, B3LYP (and B3P86) are changed to the VWN-RPA variant, corresponding to the original definition by Stephens et al. (issue 1480) and the same as the B3LYP functional in Gaussian. To restore the VWN5 definition, you can put the setting \"B3LYP_WITH_VWN5 = True\" in pyscf_conf.py\n",
      "  warnings.warn('Since PySCF-2.3, B3LYP (and B3P86) are changed to the VWN-RPA variant, '\n"
     ]
    }
   ],
   "source": [
    "import numpy as np\n",
    "from matplotlib import pyplot as plt\n",
    "from openbabel import openbabel as ob\n",
    "from utils.shannon import shannon_entropy\n",
    "from utils.adjust_molecule import get_dihedral_angle, adjust_dihedral_angle, convert_ob_pyscf"
   ]
  },
  {
   "cell_type": "code",
   "execution_count": 2,
   "metadata": {},
   "outputs": [],
   "source": [
    "def plot_dihedral_angle(mol_name, angle_min, angle_max, num_points, idx_1, idx_2, idx_3, idx_4, basis='sto-3g', xc='B3LYP'):\n",
    "    x = np.linspace(angle_min, angle_max, num=num_points)\n",
    "    y = np.zeros(len(x))\n",
    "\n",
    "    for i in range(len(x)):\n",
    "        print(i)\n",
    "        mol_ob = adjust_dihedral_angle(mol_name,idx_1, idx_2, idx_3, idx_4, x[i])\n",
    "        y[i] = shannon_entropy(convert_ob_pyscf(mol_ob, basis=basis), xc=xc)\n",
    "        \n",
    "    plt.xlabel(\"Dihedral angle\")\n",
    "    plt.ylabel(\"Shannon entropy\")\n",
    "    plt.axvline(x=get_dihedral_angle(mol_name, idx_1, idx_2, idx_3, idx_4), color='r')\n",
    "    plt.plot(x, y)\n",
    "    plt.savefig(str.format(\"plots/dihedral_angle/{mol}_dihedralangle_{min}_{max}_{num}.png\", mol=mol_name, min=angle_min, max=angle_max, num=num_points))\n",
    "    plt.close()"
   ]
  },
  {
   "cell_type": "markdown",
   "metadata": {},
   "source": [
    "Plot dihedral angle for C<sub>2</sub>H<sub>6</sub>"
   ]
  },
  {
   "cell_type": "code",
   "execution_count": null,
   "metadata": {},
   "outputs": [],
   "source": [
    "plot_dihedral_angle('C2H6', 0.01, 120, num_points=1000, idx_1=3, idx_2=1, idx_3=2, idx_4=6)"
   ]
  },
  {
   "cell_type": "markdown",
   "metadata": {},
   "source": [
    "Plot dihedral angle of acetic acid about the -CH<sub>3</sub> group"
   ]
  },
  {
   "cell_type": "code",
   "execution_count": null,
   "metadata": {},
   "outputs": [],
   "source": [
    "plot_dihedral_angle('acetic_acid', 0.01, 120, num_points=1000, idx_1=2, idx_2=1, idx_3=5, idx_4=6)"
   ]
  },
  {
   "cell_type": "markdown",
   "metadata": {},
   "source": [
    "Plot dihedral angle of acetic acid about the -OH group"
   ]
  },
  {
   "cell_type": "code",
   "execution_count": null,
   "metadata": {},
   "outputs": [],
   "source": [
    "plot_dihedral_angle('acetic_acid', 0.01, 180, num_points=1000, idx_1=2, idx_2=1, idx_3=3, idx_4=4)"
   ]
  },
  {
   "cell_type": "code",
   "execution_count": null,
   "metadata": {},
   "outputs": [],
   "source": []
  }
 ],
 "metadata": {
  "kernelspec": {
   "display_name": "Python 3",
   "language": "python",
   "name": "python3"
  },
  "language_info": {
   "codemirror_mode": {
    "name": "ipython",
    "version": 3
   },
   "file_extension": ".py",
   "mimetype": "text/x-python",
   "name": "python",
   "nbconvert_exporter": "python",
   "pygments_lexer": "ipython3",
   "version": "3.11.5"
  }
 },
 "nbformat": 4,
 "nbformat_minor": 2
}
